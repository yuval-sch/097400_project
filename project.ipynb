{
  "nbformat": 4,
  "nbformat_minor": 0,
  "metadata": {
    "colab": {
      "name": "Untitled9.ipynb",
      "provenance": [],
      "collapsed_sections": []
    },
    "kernelspec": {
      "name": "python3",
      "display_name": "Python 3"
    },
    "language_info": {
      "name": "python"
    }
  },
  "cells": [
    {
      "cell_type": "code",
      "execution_count": 1,
      "metadata": {
        "id": "JwLvrMAWVC5S",
        "colab": {
          "base_uri": "https://localhost:8080/"
        },
        "outputId": "23155476-8835-4bdc-a03e-d4496da3f825"
      },
      "outputs": [
        {
          "output_type": "stream",
          "name": "stderr",
          "text": [
            "/usr/local/lib/python3.7/dist-packages/statsmodels/tools/_testing.py:19: FutureWarning: pandas.util.testing is deprecated. Use the functions in the public API at pandas.testing instead.\n",
            "  import pandas.util.testing as tm\n"
          ]
        }
      ],
      "source": [
        "import pandas as pd\n",
        "import numpy as np\n",
        "from matplotlib import pyplot as plt\n",
        "from sklearn.pipeline import make_pipeline\n",
        "from sklearn.preprocessing import StandardScaler\n",
        "from sklearn.calibration import CalibratedClassifierCV\n",
        "from sklearn.linear_model import LogisticRegression\n",
        "from sklearn.ensemble import RandomForestRegressor\n",
        "from sklearn.cluster import KMeans"
      ]
    },
    {
      "cell_type": "code",
      "source": [
        "df = pd.read_csv(r\"/content/spotify_global_2019_most_streamed_tracks_audio_features.csv\")\n",
        "df.rename(columns = {'danceability':'Y', 'mode':'T'}, inplace = True)"
      ],
      "metadata": {
        "id": "DE9-HZbtgRwC"
      },
      "execution_count": 2,
      "outputs": []
    },
    {
      "cell_type": "code",
      "source": [
        "df = pd.get_dummies(df, columns=['Artist', 'key'])\n",
        "x_features = df.columns.difference(['T', 'Y'])\n",
        "X = df[x_features]\n",
        "T_df = df['T']"
      ],
      "metadata": {
        "id": "iIbIsPcHl7k-"
      },
      "execution_count": 3,
      "outputs": []
    },
    {
      "cell_type": "code",
      "source": [
        "kmeans = make_pipeline(StandardScaler(), KMeans(120, random_state=42))\n",
        "kmeans.fit(X)\n",
        "identified_clusters = kmeans.fit_predict(X)\n",
        "df['Clusters'] = identified_clusters\n",
        "total = 0\n",
        "count = 0\n",
        "lengths = []\n",
        "for i in range(150):\n",
        "  curr_Y0 = df[df['Clusters'] == i][df['T'] == 0]['Y']\n",
        "  curr_Y1 = df[df['Clusters'] == i][df['T'] == 1]['Y']\n",
        "  if len(curr_Y0) > 1 and len(curr_Y0) <= 20:\n",
        "    total += len(curr_Y0) * (max(curr_Y0) - min(curr_Y0))\n",
        "    count += len(curr_Y0)\n",
        "    lengths.append(len(curr_Y0))\n",
        "  if len(curr_Y1) > 1 and len(curr_Y1) <= 20:\n",
        "    total += len(curr_Y1) * (max(curr_Y1) - min(curr_Y1))\n",
        "    count += len(curr_Y1)\n",
        "    lengths.append(len(curr_Y1))\n",
        "print(\"weighted average range:\", total / count)\n",
        "print(\"mean cluster length:\", sum(lengths) / len(lengths))\n",
        "df.drop(columns=['Clusters'], inplace=True)"
      ],
      "metadata": {
        "colab": {
          "base_uri": "https://localhost:8080/"
        },
        "id": "vKwPIxjso_ke",
        "outputId": "227b8c6e-269d-4508-d2dc-1e9152da7be9"
      },
      "execution_count": 4,
      "outputs": [
        {
          "output_type": "stream",
          "name": "stderr",
          "text": [
            "/usr/local/lib/python3.7/dist-packages/ipykernel_launcher.py:9: UserWarning: Boolean Series key will be reindexed to match DataFrame index.\n",
            "  if __name__ == '__main__':\n",
            "/usr/local/lib/python3.7/dist-packages/ipykernel_launcher.py:10: UserWarning: Boolean Series key will be reindexed to match DataFrame index.\n",
            "  # Remove the CWD from sys.path while we load stuff.\n"
          ]
        },
        {
          "output_type": "stream",
          "name": "stdout",
          "text": [
            "weighted average range: 0.28688926553672334\n",
            "mean cluster length: 5.175438596491228\n"
          ]
        }
      ]
    },
    {
      "cell_type": "code",
      "source": [
        "total = 0\n",
        "count = 240\n",
        "for i in range(120):\n",
        "  sampled_0 = df[df['T'] == 0].sample(5, random_state=i)['Y']\n",
        "  sampled_1 = df[df['T'] == 1].sample(5, random_state=i)['Y']\n",
        "  total += max(sampled_0) - min(sampled_0) + max(sampled_1) - min(sampled_1)\n",
        "print(total / count)"
      ],
      "metadata": {
        "colab": {
          "base_uri": "https://localhost:8080/"
        },
        "id": "uX4bK7flAo0w",
        "outputId": "b2ac4618-3bd4-4c6b-ab3a-55726fa6f8ca"
      },
      "execution_count": 5,
      "outputs": [
        {
          "output_type": "stream",
          "name": "stdout",
          "text": [
            "0.35635\n"
          ]
        }
      ]
    },
    {
      "cell_type": "markdown",
      "source": [
        "**Estimating Propensity Score**"
      ],
      "metadata": {
        "id": "pg0INcHnl_wH"
      }
    },
    {
      "cell_type": "code",
      "source": [
        "model = make_pipeline(StandardScaler(), CalibratedClassifierCV(LogisticRegression()))\n",
        "prop_model = model.fit(X, T_df)\n",
        "df['P'] = prop_model.predict_proba(X)[:, 1]\n",
        "P_df = df['P']"
      ],
      "metadata": {
        "id": "fBSYRqedl7ei"
      },
      "execution_count": 6,
      "outputs": []
    },
    {
      "cell_type": "code",
      "source": [
        "P0 = P_df[T_df == 0]\n",
        "P1 = P_df[T_df == 1]\n",
        "treat_plt = plt.hist(P1, fc=(0, 0, 1, 0.5), bins=15, label='Major')\n",
        "cont_plt = plt.hist(P0, fc=(1, 0, 0, 0.5), bins=15, label='Minor')\n",
        "plt.legend()\n",
        "plt.show()"
      ],
      "metadata": {
        "colab": {
          "base_uri": "https://localhost:8080/",
          "height": 268
        },
        "id": "4ZigXDf2yb5D",
        "outputId": "7a13af09-04a0-4ad8-b289-7353c67d2526"
      },
      "execution_count": 7,
      "outputs": [
        {
          "output_type": "display_data",
          "data": {
            "text/plain": [
              "<Figure size 432x288 with 1 Axes>"
            ],
            "image/png": "[encoded data removed]"
          },
          "metadata": {
            "needs_background": "light"
          }
        }
      ]
    },
    {
      "cell_type": "code",
      "source": [
        "df = df[df['P'] >= 0.4][df['P'] <= 0.7].reset_index()\n",
        "df.drop(columns=['index'], inplace=True)\n",
        "x_features = df.columns.difference(['T', 'Y'])\n",
        "T_df = df['T']"
      ],
      "metadata": {
        "colab": {
          "base_uri": "https://localhost:8080/"
        },
        "id": "NC4jyL7JtaMn",
        "outputId": "9995f7b9-e6dc-435a-ac5c-9d41282d7d62"
      },
      "execution_count": 8,
      "outputs": [
        {
          "output_type": "stream",
          "name": "stderr",
          "text": [
            "/usr/local/lib/python3.7/dist-packages/ipykernel_launcher.py:1: UserWarning: Boolean Series key will be reindexed to match DataFrame index.\n",
            "  \"\"\"Entry point for launching an IPython kernel.\n"
          ]
        }
      ]
    },
    {
      "cell_type": "markdown",
      "source": [
        "**Estimating Propensity Score**"
      ],
      "metadata": {
        "id": "nb7QscG7utEp"
      }
    },
    {
      "cell_type": "code",
      "source": [
        "P_df = df['P']\n",
        "P0 = P_df[T_df == 0]\n",
        "P1 = P_df[T_df == 1]\n",
        "treat_plt = plt.hist(P1, fc=(0, 0, 1, 0.5), bins=15, label='Major')\n",
        "cont_plt = plt.hist(P0, fc=(1, 0, 0, 0.5), bins=15, label='Minor')\n",
        "plt.legend()\n",
        "plt.show()"
      ],
      "metadata": {
        "colab": {
          "base_uri": "https://localhost:8080/",
          "height": 270
        },
        "id": "AQEWtRvIunoF",
        "outputId": "718f3e35-3b4a-464f-e8a7-7729a5cc4721"
      },
      "execution_count": 9,
      "outputs": [
        {
          "output_type": "display_data",
          "data": {
            "text/plain": [
              "<Figure size 432x288 with 1 Axes>"
            ],
            "image/png": "[encoded data removed]"
          },
          "metadata": {
            "needs_background": "light"
          }
        }
      ]
    },
    {
      "cell_type": "markdown",
      "source": [
        "**Estimating ATE**"
      ],
      "metadata": {
        "id": "mYqCABZuwQYf"
      }
    },
    {
      "cell_type": "code",
      "source": [
        "B = 100\n",
        "n = 400\n",
        "squares = [0] * 5\n",
        "sums = [0] * 5\n",
        "ipws = [0] * B\n",
        "ss = [0] * B\n",
        "ts = [0] * B\n",
        "matchs = [0] * B\n",
        "avgs = [0] * B\n",
        "for b in range(B):\n",
        "  boot_df = df.sample(n, replace=True).reset_index(inplace=False)\n",
        "  boot_df.drop(columns=['index'], inplace=True)\n",
        "  X = boot_df[x_features]\n",
        "  T_df = boot_df['T']\n",
        "  Y_df = boot_df['Y']\n",
        "  P_df = boot_df['P']\n",
        "  P0 = P_df[T_df == 0]\n",
        "  P1 = P_df[T_df == 1]\n",
        "  avg_ate = 0\n",
        "  # IPW\n",
        "  ipw_ate = (Y_df[T_df == 1] / P_df[T_df == 1]).sum()/len(X) - (Y_df[T_df == 0] / (1 - P_df[T_df == 0])).sum()/len(X)\n",
        "  ipws[b] = ipw_ate\n",
        "  sums[0] += ipw_ate\n",
        "  squares[0] += ipw_ate ** 2\n",
        "  avg_ate += ipw_ate\n",
        "  # S-learner\n",
        "  X_train = pd.concat([X, T_df], axis=1)\n",
        "  model = make_pipeline(StandardScaler(), RandomForestRegressor())\n",
        "  s_model = model.fit(X_train, Y_df)\n",
        "  treated_df_T0 = X.copy()\n",
        "  treated_df_T1 = X.copy()\n",
        "  treated_df_T0['T'] = 0\n",
        "  treated_df_T1['T'] = 1\n",
        "  s_ate = ((1 / len(X)) * sum([s_model.predict(treated_df_T1.iloc[[i]]) - s_model.predict(treated_df_T0.iloc[[i]]) for i in range(len(X))]))[0]\n",
        "  ss[b] = s_ate\n",
        "  sums[1] += s_ate\n",
        "  squares[1] += s_ate ** 2\n",
        "  avg_ate += s_ate\n",
        "  # T-learner\n",
        "  X_train0 = X[T_df == 0]\n",
        "  X_train1 = X[T_df == 1]\n",
        "  Y_train0 = Y_df[T_df == 0]\n",
        "  Y_train1 = Y_df[T_df == 1]\n",
        "  model0 = make_pipeline(StandardScaler(), RandomForestRegressor())\n",
        "  model1 = make_pipeline(StandardScaler(), RandomForestRegressor())\n",
        "  t_model0 = model0.fit(X_train0, Y_train0)\n",
        "  t_model1 = model1.fit(X_train1, Y_train1)\n",
        "  t_ate = ((1 / len(X)) * sum([t_model1.predict(X.iloc[[i]]) - t_model0.predict(X.iloc[[i]]) for i in range(len(X))]))[0]\n",
        "  ts[b] = t_ate\n",
        "  sums[2] += t_ate\n",
        "  squares[2] += t_ate ** 2\n",
        "  avg_ate += t_ate\n",
        "  # Matching\n",
        "  Y0 = []\n",
        "  Y1 = []\n",
        "  for obs in np.random.permutation(T_df[T_df == 1].index):\n",
        "    dist = abs(P1[obs] - P0)\n",
        "    Y0.append(Y_df[dist.idxmin()])\n",
        "    Y1.append(Y_df[obs])\n",
        "  for obs in np.random.permutation(T_df[T_df == 0].index):\n",
        "    dist = abs(P1 - P0[obs])\n",
        "    Y1.append(Y_df[dist.idxmin()])\n",
        "    Y0.append(Y_df[obs])\n",
        "  match_ate = (np.array(Y1) - np.array(Y0)).mean()\n",
        "  matchs[b] = match_ate\n",
        "  sums[3] += match_ate\n",
        "  squares[3] += match_ate ** 2\n",
        "  avg_ate += match_ate\n",
        "  avg_ate /= 4\n",
        "  avgs[b] = avg_ate\n",
        "  sums[4] += avg_ate\n",
        "  squares[4] += avg_ate ** 2\n"
      ],
      "metadata": {
        "id": "ekIkvJsbwPYy"
      },
      "execution_count": 10,
      "outputs": []
    },
    {
      "cell_type": "code",
      "source": [
        "ses = (np.array(squares)/B - (np.array(sums)/B)**2)**0.5\n",
        "print(\"IPW: mean:\", np.mean(np.array(ipws)), \"ic:\", (np.mean(np.array(ipws)) - 2 * ses[0],  np.mean(np.array(ipws)) + 2 * ses[0]))\n",
        "print(\"S-learner: mean:\", np.mean(np.array(ss)), \"ic:\", (np.mean(np.array(ss)) - 2 * ses[1],  np.mean(np.array(ss)) + 2 * ses[1]))\n",
        "print(\"T-learner: mean:\", np.mean(np.array(ts)), \"ic:\", (np.mean(np.array(ts)) - 2 * ses[2],  np.mean(np.array(ts)) + 2 * ses[2]))\n",
        "print(\"Matching: mean:\", np.mean(np.array(matchs)), \"ic:\", (np.mean(np.array(matchs)) - 2 * ses[3],  np.mean(np.array(matchs)) + 2 * ses[3]))\n",
        "print(\"Average: mean:\", np.mean(np.array(avgs)), \"ic:\", (np.mean(np.array(avgs)) - 2 * ses[4],  np.mean(np.array(avgs)) + 2 * ses[4]))"
      ],
      "metadata": {
        "colab": {
          "base_uri": "https://localhost:8080/"
        },
        "id": "_0SD1PS9WV-T",
        "outputId": "fc6e17dd-89e8-4115-9157-bb1654d0760d"
      },
      "execution_count": 11,
      "outputs": [
        {
          "output_type": "stream",
          "name": "stdout",
          "text": [
            "IPW: mean: -0.08644909357817264 ic: (-0.23442039753553973, 0.06152221037919446)\n",
            "S-learner: mean: -0.000924310250000005 ic: (-0.0032959642733990276, 0.0014473437733990178)\n",
            "T-learner: mean: -0.007113217000000036 ic: (-0.02898995903484937, 0.014763525034849297)\n",
            "Matching: mean: -0.012156824999999996 ic: (-0.05316956163055783, 0.02885591163055784)\n",
            "Average: mean: -0.02666086145704316 ic: (-0.0693919707458131, 0.016070247831726774)\n"
          ]
        }
      ]
    }
  ]
}